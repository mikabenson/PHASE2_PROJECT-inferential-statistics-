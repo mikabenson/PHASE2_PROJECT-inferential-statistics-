{
 "cells": [
  {
   "cell_type": "markdown",
   "metadata": {},
   "source": [
    "### Introduction\n",
    "\n",
    "Our company is entering the film industry by launching a new movie studio but lacks experience in film production. We are tasked with analyzing current box office trends to identify successful film types. The goal is to translate these insights into actionable recommendations that will guide the studio head in creating films that align with market preferences and drive success."
   ]
  },
  {
   "cell_type": "markdown",
   "metadata": {},
   "source": [
    "### Problem Statement\n",
    "Your company now sees all the big companies creating original video content and they want to get in on the fun. They have decided to create a new movie studio, but they don’t know anything about creating movies. You are charged with exploring what types of films are currently doing the best at the box office. You must then translate those findings into actionable insights that the head of your company's new movie studio can use to help decide what type of films to create."
   ]
  },
  {
   "cell_type": "markdown",
   "metadata": {},
   "source": [
    "### Objectives\n",
    "1. Evaluate the performance of various film genres in both domestic and international markets.\n",
    "2. Identify the movie studios that consistently produce high-performing films.\n",
    "3. Investigate the correlation between production budgets and both domestic and international revenues.\n",
    "4. Examine trends in film production over time.\n",
    "5. Assess the impact of a film's popularity score and average rating on its overall performance."
   ]
  },
  {
   "cell_type": "markdown",
   "metadata": {},
   "source": [
    "### Data\n",
    "Datasets used were obtained from:\n",
    "* [Box Office Mojo](https://www.boxofficemojo.com/)\n",
    "* [IMDB](https://www.imdb.com/)\n",
    "* [Rotten Tomatoes](https://www.rottentomatoes.com/)\n",
    "* [TheMovieDB](https://www.themoviedb.org/)\n",
    "* [The Numbers](https://www.the-numbers.com/)\n"
   ]
  },
  {
   "cell_type": "markdown",
   "metadata": {},
   "source": [
    "### Exploratory Data Analysis"
   ]
  },
  {
   "cell_type": "code",
   "execution_count": 2,
   "metadata": {},
   "outputs": [],
   "source": [
    "# import the necessary packages\n",
    "import pandas as pd\n",
    "import numpy as np\n",
    "import sqlite3\n",
    "import seaborn as sns\n",
    "import matplotlib.pyplot as plt\n",
    "import scipy.stats as stats\n",
    "import statsmodels.api as sm"
   ]
  },
  {
   "cell_type": "markdown",
   "metadata": {},
   "source": [
    "#### Loading the Files Both (C.S.V) and (T.S.V)"
   ]
  },
  {
   "cell_type": "code",
   "execution_count": 5,
   "metadata": {},
   "outputs": [
    {
     "data": {
      "text/plain": [
       "[('movie_basics',),\n",
       " ('directors',),\n",
       " ('known_for',),\n",
       " ('movie_akas',),\n",
       " ('movie_ratings',),\n",
       " ('persons',),\n",
       " ('principals',),\n",
       " ('writers',)]"
      ]
     },
     "execution_count": 5,
     "metadata": {},
     "output_type": "execute_result"
    }
   ],
   "source": [
    "# lets import the necessary files\n",
    "movie_gross_df = pd.read_csv(r'C:\\Users\\Nick\\Desktop\\Phase 2 Project\\PHASE2_PROJECT-inferential-statistics-\\data\\bom.movie_gross.csv.gz')\n",
    "rating_df = pd.read_csv(r'C:\\Users\\Nick\\Desktop\\Phase 2 Project\\PHASE2_PROJECT-inferential-statistics-\\data\\rt.movie_info.tsv.gz', sep = '\\t')\n",
    "reviews_df = pd.read_csv(r'C:\\Users\\Nick\\Desktop\\Phase 2 Project\\PHASE2_PROJECT-inferential-statistics-\\data\\rt.reviews.tsv.gz', sep = '\\t', encoding = 'ISO-8859-1')\n",
    "movies_df = pd.read_csv(r'C:\\Users\\Nick\\Desktop\\Phase 2 Project\\PHASE2_PROJECT-inferential-statistics-\\data\\tmdb.movies.csv.gz')\n",
    "movie_budget_df = pd.read_csv(r'C:\\Users\\Nick\\Desktop\\Phase 2 Project\\PHASE2_PROJECT-inferential-statistics-\\data\\tn.movie_budgets.csv.gz')\n",
    "\n",
    "\n",
    "# connecting to the database\n",
    "conn = sqlite3.connect(r'C:\\Users\\Nick\\Desktop\\Phase 2 Project\\PHASE2_PROJECT-inferential-statistics-\\data\\im.db')\n",
    "cursor = conn.cursor()\n",
    "cursor.execute(\"\"\"SELECT name FROM sqlite_master WHERE type = 'table';\"\"\")\n",
    "table_name = cursor.fetchall()\n",
    "table_name"
   ]
  },
  {
   "cell_type": "markdown",
   "metadata": {},
   "source": [
    "### Data Visualization"
   ]
  },
  {
   "cell_type": "markdown",
   "metadata": {},
   "source": [
    "### Statistical Analysis"
   ]
  },
  {
   "cell_type": "markdown",
   "metadata": {},
   "source": [
    "### Model Evaluation and Performance Metrics"
   ]
  },
  {
   "cell_type": "markdown",
   "metadata": {},
   "source": [
    "### Conclusion and Insights"
   ]
  }
 ],
 "metadata": {
  "kernelspec": {
   "display_name": "Python 3",
   "language": "python",
   "name": "python3"
  },
  "language_info": {
   "codemirror_mode": {
    "name": "ipython",
    "version": 3
   },
   "file_extension": ".py",
   "mimetype": "text/x-python",
   "name": "python",
   "nbconvert_exporter": "python",
   "pygments_lexer": "ipython3",
   "version": "3.8.5"
  }
 },
 "nbformat": 4,
 "nbformat_minor": 2
}
