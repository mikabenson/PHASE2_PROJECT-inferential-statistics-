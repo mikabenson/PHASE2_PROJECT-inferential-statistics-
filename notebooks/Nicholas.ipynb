{
 "cells": [
  {
   "cell_type": "markdown",
   "metadata": {},
   "source": [
    "###Final Project Submission\n",
    "    Please fill out:\n",
    "\n",
    "    Student name:\n",
    "    Student pace: self paced / part time / full time\n",
    "    Scheduled project review date/time:\n",
    "    Instructor name:\n",
    "    Blog post URL:"
   ]
  },
  {
   "cell_type": "code",
   "execution_count": 1,
   "metadata": {},
   "outputs": [],
   "source": [
    "# import the necessary packages\n",
    "import pandas as pd\n",
    "import numpy as np\n",
    "import sqlite3\n",
    "import seaborn as sns\n",
    "import matplotlib.pyplot as plt\n",
    "import scipy.stats as stats"
   ]
  },
  {
   "cell_type": "markdown",
   "metadata": {},
   "source": [
    "### We will import and load the dataset and view the first few rows"
   ]
  },
  {
   "cell_type": "code",
   "execution_count": 5,
   "metadata": {},
   "outputs": [],
   "source": [
    "# lets import the necessary files\n",
    "movie_gross_df = pd.read_csv(r'C:\\Users\\Nick\\Desktop\\Phase 2 Project\\PHASE2_PROJECT-inferential-statistics-\\data\\bom.movie_gross.csv.gz')\n",
    "rating_df = pd.read_csv(r'C:\\Users\\Nick\\Desktop\\Phase 2 Project\\PHASE2_PROJECT-inferential-statistics-\\data\\rt.movie_info.tsv.gz', sep = '\\t')\n",
    "reviews_df = pd.read_csv(r'C:\\Users\\Nick\\Desktop\\Phase 2 Project\\PHASE2_PROJECT-inferential-statistics-\\data\\rt.reviews.tsv.gz', sep = '\\t', encoding = 'ISO-8859-1')\n",
    "movies_df = pd.read_csv(r'C:\\Users\\Nick\\Desktop\\Phase 2 Project\\PHASE2_PROJECT-inferential-statistics-\\data\\tmdb.movies.csv.gz')\n",
    "movie_budget_df = pd.read_csv(r'C:\\Users\\Nick\\Desktop\\Phase 2 Project\\PHASE2_PROJECT-inferential-statistics-\\data\\tn.movie_budgets.csv.gz')\n"
   ]
  },
  {
   "cell_type": "code",
   "execution_count": null,
   "metadata": {},
   "outputs": [
    {
     "name": "stdout",
     "output_type": "stream",
     "text": [
      "                                         title studio  domestic_gross  \\\n",
      "0                                  Toy Story 3     BV     415000000.0   \n",
      "1                   Alice in Wonderland (2010)     BV     334200000.0   \n",
      "2  Harry Potter and the Deathly Hallows Part 1     WB     296000000.0   \n",
      "3                                    Inception     WB     292600000.0   \n",
      "4                          Shrek Forever After   P/DW     238700000.0   \n",
      "\n",
      "  foreign_gross  year  \n",
      "0     652000000  2010  \n",
      "1     691300000  2010  \n",
      "2     664300000  2010  \n",
      "3     535700000  2010  \n",
      "4     513900000  2010  \n",
      "   id                                           synopsis rating  \\\n",
      "0   1  This gritty, fast-paced, and innovative police...      R   \n",
      "1   3  New York City, not-too-distant-future: Eric Pa...      R   \n",
      "2   5  Illeana Douglas delivers a superb performance ...      R   \n",
      "3   6  Michael Douglas runs afoul of a treacherous su...      R   \n",
      "4   7                                                NaN     NR   \n",
      "\n",
      "                                 genre          director  \\\n",
      "0  Action and Adventure|Classics|Drama  William Friedkin   \n",
      "1    Drama|Science Fiction and Fantasy  David Cronenberg   \n",
      "2    Drama|Musical and Performing Arts    Allison Anders   \n",
      "3           Drama|Mystery and Suspense    Barry Levinson   \n",
      "4                        Drama|Romance    Rodney Bennett   \n",
      "\n",
      "                            writer  theater_date      dvd_date currency  \\\n",
      "0                   Ernest Tidyman   Oct 9, 1971  Sep 25, 2001      NaN   \n",
      "1     David Cronenberg|Don DeLillo  Aug 17, 2012   Jan 1, 2013        $   \n",
      "2                   Allison Anders  Sep 13, 1996  Apr 18, 2000      NaN   \n",
      "3  Paul Attanasio|Michael Crichton   Dec 9, 1994  Aug 27, 1997      NaN   \n",
      "4                     Giles Cooper           NaN           NaN      NaN   \n",
      "\n",
      "  box_office      runtime             studio  \n",
      "0        NaN  104 minutes                NaN  \n",
      "1    600,000  108 minutes  Entertainment One  \n",
      "2        NaN  116 minutes                NaN  \n",
      "3        NaN  128 minutes                NaN  \n",
      "4        NaN  200 minutes                NaN  \n",
      "   id                                             review rating   fresh  \\\n",
      "0   3  A distinctly gallows take on contemporary fina...    3/5   fresh   \n",
      "1   3  It's an allegory in search of a meaning that n...    NaN  rotten   \n",
      "2   3  ... life lived in a bubble in financial dealin...    NaN   fresh   \n",
      "3   3  Continuing along a line introduced in last yea...    NaN   fresh   \n",
      "4   3             ... a perverse twist on neorealism...     NaN   fresh   \n",
      "\n",
      "           critic  top_critic         publisher               date  \n",
      "0      PJ Nabarro           0   Patrick Nabarro  November 10, 2018  \n",
      "1  Annalee Newitz           0           io9.com       May 23, 2018  \n",
      "2    Sean Axmaker           0  Stream on Demand    January 4, 2018  \n",
      "3   Daniel Kasman           0              MUBI  November 16, 2017  \n",
      "4             NaN           0      Cinema Scope   October 12, 2017  \n",
      "   Unnamed: 0            genre_ids     id original_language  \\\n",
      "0           0      [12, 14, 10751]  12444                en   \n",
      "1           1  [14, 12, 16, 10751]  10191                en   \n",
      "2           2        [12, 28, 878]  10138                en   \n",
      "3           3      [16, 35, 10751]    862                en   \n",
      "4           4        [28, 878, 12]  27205                en   \n",
      "\n",
      "                                 original_title  popularity release_date  \\\n",
      "0  Harry Potter and the Deathly Hallows: Part 1      33.533   2010-11-19   \n",
      "1                      How to Train Your Dragon      28.734   2010-03-26   \n",
      "2                                    Iron Man 2      28.515   2010-05-07   \n",
      "3                                     Toy Story      28.005   1995-11-22   \n",
      "4                                     Inception      27.920   2010-07-16   \n",
      "\n",
      "                                          title  vote_average  vote_count  \n",
      "0  Harry Potter and the Deathly Hallows: Part 1           7.7       10788  \n",
      "1                      How to Train Your Dragon           7.7        7610  \n",
      "2                                    Iron Man 2           6.8       12368  \n",
      "3                                     Toy Story           7.9       10174  \n",
      "4                                     Inception           8.3       22186  \n",
      "   id  release_date                                        movie  \\\n",
      "0   1  Dec 18, 2009                                       Avatar   \n",
      "1   2  May 20, 2011  Pirates of the Caribbean: On Stranger Tides   \n",
      "2   3   Jun 7, 2019                                 Dark Phoenix   \n",
      "3   4   May 1, 2015                      Avengers: Age of Ultron   \n",
      "4   5  Dec 15, 2017            Star Wars Ep. VIII: The Last Jedi   \n",
      "\n",
      "  production_budget domestic_gross worldwide_gross  \n",
      "0      $425,000,000   $760,507,625  $2,776,345,279  \n",
      "1      $410,600,000   $241,063,875  $1,045,663,875  \n",
      "2      $350,000,000    $42,762,350    $149,762,350  \n",
      "3      $330,600,000   $459,005,868  $1,403,013,963  \n",
      "4      $317,000,000   $620,181,382  $1,316,721,747  \n"
     ]
    }
   ],
   "source": [
    "# We will view the first few rows of each dataframe\n",
    "print(movie_gross_df.head())\n",
    "print(rating_df.head())\n",
    "print(reviews_df.head())\n",
    "print(movies_df.head())\n",
    "print(movie_budget_df.head())"
   ]
  },
  {
   "cell_type": "code",
   "execution_count": 12,
   "metadata": {},
   "outputs": [
    {
     "name": "stdout",
     "output_type": "stream",
     "text": [
      "(2007, 5)\n",
      "(1560, 12)\n",
      "(54432, 8)\n",
      "(26517, 10)\n",
      "(5782, 6)\n"
     ]
    }
   ],
   "source": [
    "# Lets see the shape of each dataframe\n",
    "print(movie_gross_df.shape)\n",
    "print(rating_df.shape)\n",
    "print(reviews_df.shape)\n",
    "print(movies_df.shape)\n",
    "print(movie_budget_df.shape)"
   ]
  },
  {
   "cell_type": "markdown",
   "metadata": {},
   "source": [
    "### Identify the missing values and decide how to handle them"
   ]
  },
  {
   "cell_type": "code",
   "execution_count": 9,
   "metadata": {},
   "outputs": [
    {
     "name": "stdout",
     "output_type": "stream",
     "text": [
      "title                0\n",
      "studio               5\n",
      "domestic_gross      28\n",
      "foreign_gross     1350\n",
      "year                 0\n",
      "dtype: int64\n",
      "id                 0\n",
      "synopsis          62\n",
      "rating             3\n",
      "genre              8\n",
      "director         199\n",
      "writer           449\n",
      "theater_date     359\n",
      "dvd_date         359\n",
      "currency        1220\n",
      "box_office      1220\n",
      "runtime           30\n",
      "studio          1066\n",
      "dtype: int64\n",
      "id                0\n",
      "review         5563\n",
      "rating        13517\n",
      "fresh             0\n",
      "critic         2722\n",
      "top_critic        0\n",
      "publisher       309\n",
      "date              0\n",
      "dtype: int64\n",
      "Unnamed: 0           0\n",
      "genre_ids            0\n",
      "id                   0\n",
      "original_language    0\n",
      "original_title       0\n",
      "popularity           0\n",
      "release_date         0\n",
      "title                0\n",
      "vote_average         0\n",
      "vote_count           0\n",
      "dtype: int64\n",
      "id                   0\n",
      "release_date         0\n",
      "movie                0\n",
      "production_budget    0\n",
      "domestic_gross       0\n",
      "worldwide_gross      0\n",
      "dtype: int64\n"
     ]
    }
   ],
   "source": [
    "# Check for missing values in each dataframe\n",
    "print(movie_gross_df.isna().sum())\n",
    "print(rating_df.isna().sum())\n",
    "print(reviews_df.isna().sum())\n",
    "print(movies_df.isna().sum())\n",
    "print(movie_budget_df.isna().sum())"
   ]
  },
  {
   "cell_type": "markdown",
   "metadata": {},
   "source": [
    "From the output, we can see that there are a number of missing values. some more than the others.\n",
    "For the dataframe with too many missing values, we will drop them. The rest we will fill them."
   ]
  },
  {
   "cell_type": "code",
   "execution_count": 13,
   "metadata": {},
   "outputs": [],
   "source": [
    "# We will drop any rows with missing values in the movie_gross_df\n",
    "movie_gross_df.dropna(inplace=True)\n",
    "\n",
    "# We will fill missing values in the reviews dataframe with 'Unknown'\n",
    "reviews_df.fillna('Unknown', inplace=True)\n"
   ]
  },
  {
   "cell_type": "markdown",
   "metadata": {},
   "source": [
    "We still have missing values in the movie budget dataframe, but they have dollar signs and commas. \n",
    "So we need to remove them."
   ]
  },
  {
   "cell_type": "code",
   "execution_count": 15,
   "metadata": {},
   "outputs": [],
   "source": [
    "# We remove the dollar signs and commas from the production budget column and convert to numeric\n",
    "movie_budget_df['production_budget'] = movie_budget_df['production_budget'].replace(r'[\\$,]', '', regex=True).astype(float)\n",
    "\n",
    "# From this we will fill the missing values with the median\n",
    "movie_budget_df['production_budget'] = movie_budget_df['production_budget'].fillna(movie_budget_df['production_budget'].median())"
   ]
  },
  {
   "cell_type": "markdown",
   "metadata": {},
   "source": [
    "We will do the same with the movie gross dataframe and clean the domestic box office and foreign gross columns."
   ]
  },
  {
   "cell_type": "code",
   "execution_count": 16,
   "metadata": {},
   "outputs": [],
   "source": [
    "# We will clean the domestic box office and foreign gross columns\n",
    "movie_gross_df['domestic_gross'] = movie_gross_df['domestic_gross'].replace(r'[\\$,]', '', regex=True).astype(float)\n",
    "movie_gross_df['foreign_gross'] = movie_gross_df['foreign_gross'].replace(r'[\\$,]', '', regex=True).astype(float)\n",
    "\n",
    "# We will fill the missing values with the median\n",
    "movie_gross_df['domestic_gross'] = movie_gross_df['domestic_gross'].fillna(movie_gross_df['domestic_gross'].median())\n",
    "movie_gross_df['foreign_gross'] = movie_gross_df['foreign_gross'].fillna(movie_gross_df['foreign_gross'].median())"
   ]
  },
  {
   "cell_type": "markdown",
   "metadata": {},
   "source": [
    "### Correcting Data Types"
   ]
  },
  {
   "cell_type": "markdown",
   "metadata": {},
   "source": [
    "Ensuring the data types of each column are appropriate for analysis"
   ]
  },
  {
   "cell_type": "code",
   "execution_count": 17,
   "metadata": {},
   "outputs": [
    {
     "name": "stdout",
     "output_type": "stream",
     "text": [
      "title              object\n",
      "studio             object\n",
      "domestic_gross    float64\n",
      "foreign_gross     float64\n",
      "year                int64\n",
      "dtype: object\n",
      "id               int64\n",
      "synopsis        object\n",
      "rating          object\n",
      "genre           object\n",
      "director        object\n",
      "writer          object\n",
      "theater_date    object\n",
      "dvd_date        object\n",
      "currency        object\n",
      "box_office      object\n",
      "runtime         object\n",
      "studio          object\n",
      "dtype: object\n",
      "id                     int64\n",
      "release_date          object\n",
      "movie                 object\n",
      "production_budget    float64\n",
      "domestic_gross        object\n",
      "worldwide_gross       object\n",
      "dtype: object\n"
     ]
    }
   ],
   "source": [
    "# Check data types\n",
    "print(movie_gross_df.dtypes)\n",
    "print(rating_df.dtypes)\n",
    "print(movie_budget_df.dtypes)"
   ]
  },
  {
   "cell_type": "code",
   "execution_count": 18,
   "metadata": {},
   "outputs": [],
   "source": [
    "# We can see that realese date is an object datatype. We will convert this to a datetime datatype\n",
    "movie_budget_df['release_date'] = pd.to_datetime(movie_budget_df['release_date'])"
   ]
  },
  {
   "cell_type": "markdown",
   "metadata": {},
   "source": [
    "### Check for and Remove Duplicte Rows"
   ]
  },
  {
   "cell_type": "code",
   "execution_count": 19,
   "metadata": {},
   "outputs": [
    {
     "name": "stdout",
     "output_type": "stream",
     "text": [
      "0\n",
      "0\n"
     ]
    }
   ],
   "source": [
    "# Check for duplicates\n",
    "print(movie_gross_df.duplicated().sum())\n",
    "print(rating_df.duplicated().sum())"
   ]
  },
  {
   "cell_type": "markdown",
   "metadata": {},
   "source": []
  },
  {
   "cell_type": "code",
   "execution_count": 20,
   "metadata": {},
   "outputs": [
    {
     "data": {
      "image/png": "[encoded data removed]",
      "text/plain": [
       "<Figure size 640x480 with 1 Axes>"
      ]
     },
     "metadata": {},
     "output_type": "display_data"
    }
   ],
   "source": [
    "plt.boxplot(movie_budget_df['production_budget'])\n",
    "plt.show()"
   ]
  },
  {
   "cell_type": "code",
   "execution_count": 23,
   "metadata": {},
   "outputs": [
    {
     "name": "stdout",
     "output_type": "stream",
     "text": [
      "Index(['title', 'studio', 'domestic_gross', 'foreign_gross', 'year'], dtype='object')\n"
     ]
    }
   ],
   "source": [
    "# We'll check the columns in movie_gross_df\n",
    "print(movie_gross_df.columns)"
   ]
  },
  {
   "cell_type": "code",
   "execution_count": 24,
   "metadata": {},
   "outputs": [
    {
     "name": "stdout",
     "output_type": "stream",
     "text": [
      "Index(['Unnamed: 0', 'genre_ids', 'id', 'original_language', 'original_title',\n",
      "       'popularity', 'release_date', 'title', 'vote_average', 'vote_count'],\n",
      "      dtype='object')\n"
     ]
    }
   ],
   "source": [
    "# Check if genres is in movies_df\n",
    "print(movies_df.columns)"
   ]
  },
  {
   "cell_type": "code",
   "execution_count": null,
   "metadata": {},
   "outputs": [],
   "source": [
    "# Merge movie_gross_df with movies_df based on a common column. 'title' or 'movie_id\n",
    "merged_df = pd.merge(movie_gross_df, movies_df[['movie_id', 'genre']], on='movie_id', how='left')\n",
    "\n",
    "# Now you can group"
   ]
  },
  {
   "cell_type": "code",
   "execution_count": 22,
   "metadata": {},
   "outputs": [
    {
     "ename": "KeyError",
     "evalue": "'genres'",
     "output_type": "error",
     "traceback": [
      "\u001b[1;31m---------------------------------------------------------------------------\u001b[0m",
      "\u001b[1;31mKeyError\u001b[0m                                  Traceback (most recent call last)",
      "Cell \u001b[1;32mIn[22], line 1\u001b[0m\n\u001b[1;32m----> 1\u001b[0m genre_performance \u001b[38;5;241m=\u001b[39m movie_gross_df\u001b[38;5;241m.\u001b[39mgroupby(\u001b[38;5;124m'\u001b[39m\u001b[38;5;124mgenres\u001b[39m\u001b[38;5;124m'\u001b[39m)[[\u001b[38;5;124m'\u001b[39m\u001b[38;5;124mdomestic_gross\u001b[39m\u001b[38;5;124m'\u001b[39m, \u001b[38;5;124m'\u001b[39m\u001b[38;5;124mforeign_gross\u001b[39m\u001b[38;5;124m'\u001b[39m]]\u001b[38;5;241m.\u001b[39msum()\n\u001b[0;32m      3\u001b[0m top_genre_domestic \u001b[38;5;241m=\u001b[39m genre_performance\u001b[38;5;241m.\u001b[39msort_values(\u001b[38;5;124m'\u001b[39m\u001b[38;5;124mdomestic_gross\u001b[39m\u001b[38;5;124m'\u001b[39m, ascending\u001b[38;5;241m=\u001b[39m\u001b[38;5;28;01mFalse\u001b[39;00m)\u001b[38;5;241m.\u001b[39mhead(\u001b[38;5;241m10\u001b[39m)\n\u001b[0;32m      4\u001b[0m top_genre_foreign \u001b[38;5;241m=\u001b[39m genre_performance\u001b[38;5;241m.\u001b[39msort_values(\u001b[38;5;124m'\u001b[39m\u001b[38;5;124mforeign_gross\u001b[39m\u001b[38;5;124m'\u001b[39m, ascending\u001b[38;5;241m=\u001b[39m\u001b[38;5;28;01mFalse\u001b[39;00m)\u001b[38;5;241m.\u001b[39mhead(\u001b[38;5;241m10\u001b[39m)\n",
      "File \u001b[1;32mc:\\Users\\Nick\\anaconda3\\Lib\\site-packages\\pandas\\core\\frame.py:9183\u001b[0m, in \u001b[0;36mDataFrame.groupby\u001b[1;34m(self, by, axis, level, as_index, sort, group_keys, observed, dropna)\u001b[0m\n\u001b[0;32m   9180\u001b[0m \u001b[38;5;28;01mif\u001b[39;00m level \u001b[38;5;129;01mis\u001b[39;00m \u001b[38;5;28;01mNone\u001b[39;00m \u001b[38;5;129;01mand\u001b[39;00m by \u001b[38;5;129;01mis\u001b[39;00m \u001b[38;5;28;01mNone\u001b[39;00m:\n\u001b[0;32m   9181\u001b[0m     \u001b[38;5;28;01mraise\u001b[39;00m \u001b[38;5;167;01mTypeError\u001b[39;00m(\u001b[38;5;124m\"\u001b[39m\u001b[38;5;124mYou have to supply one of \u001b[39m\u001b[38;5;124m'\u001b[39m\u001b[38;5;124mby\u001b[39m\u001b[38;5;124m'\u001b[39m\u001b[38;5;124m and \u001b[39m\u001b[38;5;124m'\u001b[39m\u001b[38;5;124mlevel\u001b[39m\u001b[38;5;124m'\u001b[39m\u001b[38;5;124m\"\u001b[39m)\n\u001b[1;32m-> 9183\u001b[0m \u001b[38;5;28;01mreturn\u001b[39;00m DataFrameGroupBy(\n\u001b[0;32m   9184\u001b[0m     obj\u001b[38;5;241m=\u001b[39m\u001b[38;5;28mself\u001b[39m,\n\u001b[0;32m   9185\u001b[0m     keys\u001b[38;5;241m=\u001b[39mby,\n\u001b[0;32m   9186\u001b[0m     axis\u001b[38;5;241m=\u001b[39maxis,\n\u001b[0;32m   9187\u001b[0m     level\u001b[38;5;241m=\u001b[39mlevel,\n\u001b[0;32m   9188\u001b[0m     as_index\u001b[38;5;241m=\u001b[39mas_index,\n\u001b[0;32m   9189\u001b[0m     sort\u001b[38;5;241m=\u001b[39msort,\n\u001b[0;32m   9190\u001b[0m     group_keys\u001b[38;5;241m=\u001b[39mgroup_keys,\n\u001b[0;32m   9191\u001b[0m     observed\u001b[38;5;241m=\u001b[39mobserved,\n\u001b[0;32m   9192\u001b[0m     dropna\u001b[38;5;241m=\u001b[39mdropna,\n\u001b[0;32m   9193\u001b[0m )\n",
      "File \u001b[1;32mc:\\Users\\Nick\\anaconda3\\Lib\\site-packages\\pandas\\core\\groupby\\groupby.py:1329\u001b[0m, in \u001b[0;36mGroupBy.__init__\u001b[1;34m(self, obj, keys, axis, level, grouper, exclusions, selection, as_index, sort, group_keys, observed, dropna)\u001b[0m\n\u001b[0;32m   1326\u001b[0m \u001b[38;5;28mself\u001b[39m\u001b[38;5;241m.\u001b[39mdropna \u001b[38;5;241m=\u001b[39m dropna\n\u001b[0;32m   1328\u001b[0m \u001b[38;5;28;01mif\u001b[39;00m grouper \u001b[38;5;129;01mis\u001b[39;00m \u001b[38;5;28;01mNone\u001b[39;00m:\n\u001b[1;32m-> 1329\u001b[0m     grouper, exclusions, obj \u001b[38;5;241m=\u001b[39m get_grouper(\n\u001b[0;32m   1330\u001b[0m         obj,\n\u001b[0;32m   1331\u001b[0m         keys,\n\u001b[0;32m   1332\u001b[0m         axis\u001b[38;5;241m=\u001b[39maxis,\n\u001b[0;32m   1333\u001b[0m         level\u001b[38;5;241m=\u001b[39mlevel,\n\u001b[0;32m   1334\u001b[0m         sort\u001b[38;5;241m=\u001b[39msort,\n\u001b[0;32m   1335\u001b[0m         observed\u001b[38;5;241m=\u001b[39m\u001b[38;5;28;01mFalse\u001b[39;00m \u001b[38;5;28;01mif\u001b[39;00m observed \u001b[38;5;129;01mis\u001b[39;00m lib\u001b[38;5;241m.\u001b[39mno_default \u001b[38;5;28;01melse\u001b[39;00m observed,\n\u001b[0;32m   1336\u001b[0m         dropna\u001b[38;5;241m=\u001b[39m\u001b[38;5;28mself\u001b[39m\u001b[38;5;241m.\u001b[39mdropna,\n\u001b[0;32m   1337\u001b[0m     )\n\u001b[0;32m   1339\u001b[0m \u001b[38;5;28;01mif\u001b[39;00m observed \u001b[38;5;129;01mis\u001b[39;00m lib\u001b[38;5;241m.\u001b[39mno_default:\n\u001b[0;32m   1340\u001b[0m     \u001b[38;5;28;01mif\u001b[39;00m \u001b[38;5;28many\u001b[39m(ping\u001b[38;5;241m.\u001b[39m_passed_categorical \u001b[38;5;28;01mfor\u001b[39;00m ping \u001b[38;5;129;01min\u001b[39;00m grouper\u001b[38;5;241m.\u001b[39mgroupings):\n",
      "File \u001b[1;32mc:\\Users\\Nick\\anaconda3\\Lib\\site-packages\\pandas\\core\\groupby\\grouper.py:1043\u001b[0m, in \u001b[0;36mget_grouper\u001b[1;34m(obj, key, axis, level, sort, observed, validate, dropna)\u001b[0m\n\u001b[0;32m   1041\u001b[0m         in_axis, level, gpr \u001b[38;5;241m=\u001b[39m \u001b[38;5;28;01mFalse\u001b[39;00m, gpr, \u001b[38;5;28;01mNone\u001b[39;00m\n\u001b[0;32m   1042\u001b[0m     \u001b[38;5;28;01melse\u001b[39;00m:\n\u001b[1;32m-> 1043\u001b[0m         \u001b[38;5;28;01mraise\u001b[39;00m \u001b[38;5;167;01mKeyError\u001b[39;00m(gpr)\n\u001b[0;32m   1044\u001b[0m \u001b[38;5;28;01melif\u001b[39;00m \u001b[38;5;28misinstance\u001b[39m(gpr, Grouper) \u001b[38;5;129;01mand\u001b[39;00m gpr\u001b[38;5;241m.\u001b[39mkey \u001b[38;5;129;01mis\u001b[39;00m \u001b[38;5;129;01mnot\u001b[39;00m \u001b[38;5;28;01mNone\u001b[39;00m:\n\u001b[0;32m   1045\u001b[0m     \u001b[38;5;66;03m# Add key to exclusions\u001b[39;00m\n\u001b[0;32m   1046\u001b[0m     exclusions\u001b[38;5;241m.\u001b[39madd(gpr\u001b[38;5;241m.\u001b[39mkey)\n",
      "\u001b[1;31mKeyError\u001b[0m: 'genres'"
     ]
    }
   ],
   "source": [
    "genre_performance = movie_gross_df.groupby('genres')[['domestic_gross', 'foreign_gross']].sum()\n",
    "\n",
    "top_genre_domestic = genre_performance.sort_values('domestic_gross', ascending=False).head(10)\n",
    "top_genre_foreign = genre_performance.sort_values('foreign_gross', ascending=False).head(10)\n",
    "\n",
    "print(\"Top Performing Genres Domestically:\")\n",
    "print(top_genre_domestic)\n",
    "print(\"\\nTop Performing Genres Internationally:\")\n",
    "print(top_genre_foreign)"
   ]
  },
  {
   "cell_type": "code",
   "execution_count": null,
   "metadata": {},
   "outputs": [],
   "source": []
  }
 ],
 "metadata": {
  "kernelspec": {
   "display_name": "base",
   "language": "python",
   "name": "python3"
  },
  "language_info": {
   "codemirror_mode": {
    "name": "ipython",
    "version": 3
   },
   "file_extension": ".py",
   "mimetype": "text/x-python",
   "name": "python",
   "nbconvert_exporter": "python",
   "pygments_lexer": "ipython3",
   "version": "3.12.4"
  }
 },
 "nbformat": 4,
 "nbformat_minor": 2
}
